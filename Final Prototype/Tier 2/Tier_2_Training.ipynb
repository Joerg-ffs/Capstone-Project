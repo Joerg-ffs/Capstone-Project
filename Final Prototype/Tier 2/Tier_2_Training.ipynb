{
 "cells": [
  {
   "cell_type": "markdown",
   "metadata": {},
   "source": [
    "Install PyDrive to enable file download and upload"
   ]
  },
  {
   "cell_type": "code",
   "execution_count": 0,
   "metadata": {
    "colab": {},
    "colab_type": "code",
    "id": "Ow-HcBjaAcep"
   },
   "outputs": [],
   "source": [
    "!pip install PyDrive"
   ]
  },
  {
   "cell_type": "markdown",
   "metadata": {
    "colab_type": "text",
    "id": "UrM28eOSjUb4"
   },
   "source": [
    "Importing google specific libraries as well as authenticating the current user"
   ]
  },
  {
   "cell_type": "code",
   "execution_count": 0,
   "metadata": {
    "colab": {},
    "colab_type": "code",
    "id": "7EHMrX7tAwLa"
   },
   "outputs": [],
   "source": [
    "import os\n",
    "from pydrive.auth import GoogleAuth\n",
    "from pydrive.drive import GoogleDrive\n",
    "from google.colab import auth\n",
    "from oauth2client.client import GoogleCredentials\n",
    "\n",
    "auth.authenticate_user()\n",
    "gauth = GoogleAuth()\n",
    "gauth.credentials = GoogleCredentials.get_application_default()\n",
    "drive = GoogleDrive(gauth)\n",
    "\n"
   ]
  },
  {
   "cell_type": "markdown",
   "metadata": {
    "colab_type": "text",
    "id": "pxd1ovkdjQPA"
   },
   "source": [
    "Train model from csv file"
   ]
  },
  {
   "cell_type": "code",
   "execution_count": 0,
   "metadata": {
    "colab": {},
    "colab_type": "code",
    "id": "oeJbhWD5ukdI"
   },
   "outputs": [],
   "source": [
    "import numpy as np\n",
    "import pandas as pd\n",
    "import pickle\n",
    "\n",
    "def warn(*args, **kwargs):\n",
    "    pass\n",
    "import warnings\n",
    "warnings.warn = warn\n",
    "\n",
    "from sklearn import model_selection\n",
    "from sklearn.ensemble import ExtraTreesClassifier\n",
    "\n",
    "#Splits array l into n sized chunks\n",
    "def chunks(l, n):\n",
    "    for i in range(0, len(l), n):\n",
    "        yield l[i:i + n]\n",
    "\n",
    "#Preparing data for modeling\n",
    "data = pd.read_csv(\"tier_2_training_data.csv\")\n",
    "\n",
    "#Gets x and y values from columns\n",
    "data_y = data['Distraction']\n",
    "data_x = data.drop(\"Distraction\", axis=1)\n",
    "\n",
    "#Split arrays into arrays of 100 size (242100 data points / 100 = 2421)\n",
    "X = np.array_split(data_x, 2421)\n",
    "y = np.array_split(data_y, 2421)\n",
    "\n",
    "j = 0\n",
    "#Makes each datapoint an array\n",
    "for i in X:\n",
    "  X[j] = np.array(X[j])\n",
    "  y[j] = np.array(y[j])\n",
    "  j += 1\n",
    "\n",
    "X = np.asarray(X)\n",
    "y = np.asarray(y)\n",
    "X = X.reshape(2421,400) #flattens 2D 59x4 chunks to 1D 236 chunks\n",
    "y = y.reshape(2421,100) #flattens 1D 59x1 chunks to 1D 59 chunks\n",
    "\n",
    "#Model parameters\n",
    "validation_size = 0.2\n",
    "seed = 7\n",
    "scoring = 'accuracy'\n",
    "results = []\n",
    "#splits X and y into training and validation sets\n",
    "X_train, X_validation, Y_train, Y_validation = model_selection.train_test_split(X, y, test_size=validation_size, random_state=seed)\n",
    "\n",
    "#model definition\n",
    "ERF = ExtraTreesClassifier(n_estimators=50, max_depth=None, min_samples_split=2, random_state=0)\n",
    "#fit to dataset\n",
    "ERF.fit(X, y)\n",
    "kfold = model_selection.KFold(n_splits=90, random_state=seed)\n",
    "#score model\n",
    "cv_results = model_selection.cross_val_score(ERF, X_train, Y_train, cv=kfold, scoring=scoring)\n",
    "results.append(cv_results)\n",
    "\n",
    "#print score\n",
    "msg = \"%f (%f)\" % (cv_results.mean(), cv_results.std())\n",
    "print(msg)\n",
    "\n",
    "#dump pickle of model\n",
    "pickle.dump(ERF, open( \"Tier_2_Model.pkl\", \"wb\" ) )"
   ]
  }
 ],
 "metadata": {
  "accelerator": "GPU",
  "colab": {
   "collapsed_sections": [],
   "name": "MVP_Capstone.ipynb",
   "provenance": [],
   "version": "0.3.2"
  },
  "kernelspec": {
   "display_name": "Python 3",
   "language": "python",
   "name": "python3"
  },
  "language_info": {
   "codemirror_mode": {
    "name": "ipython",
    "version": 3
   },
   "file_extension": ".py",
   "mimetype": "text/x-python",
   "name": "python",
   "nbconvert_exporter": "python",
   "pygments_lexer": "ipython3",
   "version": "3.6.5"
  }
 },
 "nbformat": 4,
 "nbformat_minor": 1
}
